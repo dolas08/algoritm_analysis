{
 "cells": [
  {
   "cell_type": "markdown",
   "id": "93776888",
   "metadata": {},
   "source": [
    "# Домашнее задание"
   ]
  },
  {
   "cell_type": "markdown",
   "id": "557a5e1c",
   "metadata": {},
   "source": [
    "1. К алгоритму kNN, реализованному на уроке, реализовать добавление весов для соседей по любому из показанных на уроке принципов."
   ]
  },
  {
   "cell_type": "markdown",
   "id": "6be0c38d",
   "metadata": {},
   "source": [
    "\n",
    "2. *Написать функцию подсчета метрики качества кластеризации как среднее квадратичное внутрикластерное расстояние и построить график ее зависимости от количества кластеров k (взять от 1 до 10) для выборки данных из данного урока (создать датасет, как в методичке)."
   ]
  },
  {
   "cell_type": "code",
   "execution_count": 1,
   "id": "4bfa4641",
   "metadata": {},
   "outputs": [],
   "source": [
    "import numpy as np\n",
    "from sklearn.model_selection import train_test_split\n",
    "from sklearn.datasets import load_iris\n",
    "import matplotlib.pyplot as plt\n",
    "from matplotlib.colors import ListedColormap\n",
    "\n",
    "RANDOM_STATE = 52\n",
    "N_SAMPLES = 300"
   ]
  },
  {
   "cell_type": "code",
   "execution_count": 2,
   "id": "28df1698",
   "metadata": {},
   "outputs": [],
   "source": [
    "def e_metrics(x1, x2):\n",
    "    \n",
    "    distance = np.sum(np.square(x1 - x2))\n",
    "\n",
    "    return np.sqrt(distance)"
   ]
  },
  {
   "cell_type": "code",
   "execution_count": 3,
   "id": "422a0fca",
   "metadata": {},
   "outputs": [],
   "source": [
    "def weight(distance):\n",
    "    return 1/(distance + 1)"
   ]
  },
  {
   "cell_type": "code",
   "execution_count": 4,
   "id": "d46a2366",
   "metadata": {},
   "outputs": [],
   "source": [
    "def make_weights(k, distances):\n",
    "#     print(f'{k},\\n{distances}')\n",
    "    w = np.zeros(k) # w = веса для класса в подборке distances. w[0] это вес класса 0 среди подобранных k соседей\n",
    "    for i in range(k):\n",
    "#         print(distances[i][0], '<<')\n",
    "        w[distances[i][1]] += weight(distances[i][0])\n",
    "    return w"
   ]
  },
  {
   "cell_type": "code",
   "execution_count": 5,
   "id": "21dbf333",
   "metadata": {},
   "outputs": [],
   "source": [
    "def knn(x_train, y_train, x_test, k):\n",
    "    \n",
    "    answers = []\n",
    "    for x in x_test:\n",
    "        test_distances = []\n",
    "            \n",
    "        for i in range(len(x_train)):\n",
    "            \n",
    "            # расчет расстояния от классифицируемого объекта до\n",
    "            # объекта обучающей выборки\n",
    "            distance = e_metrics(x, x_train[i])\n",
    "            \n",
    "            # Записываем в список значение расстояния и ответа на объекте обучающей выборки\n",
    "            test_distances.append((distance, y_train[i]))\n",
    "        \n",
    "        # записываю в answers максимальное значение веса по индексу\n",
    "        # индекс = класс, где веса больше, тот и прав\n",
    "        answers.append(make_weights(k, sorted(test_distances)[0:k]).argmax())\n",
    "        \n",
    "    return answers"
   ]
  },
  {
   "cell_type": "code",
   "execution_count": 6,
   "id": "b25d21a6",
   "metadata": {},
   "outputs": [],
   "source": [
    "def accuracy(pred, y):\n",
    "    return (sum(pred == y) / len(y))"
   ]
  },
  {
   "cell_type": "code",
   "execution_count": 7,
   "id": "a88eacad",
   "metadata": {},
   "outputs": [],
   "source": [
    "def get_graph(X_train, y_train, k):\n",
    "    cmap_light = ListedColormap(['#FFAAAA', '#AAFFAA','#00AAFF'])\n",
    "\n",
    "    h = .1\n",
    "\n",
    "    # Расчет пределов графика\n",
    "    x_min, x_max = X_train[:, 0].min() - 1, X_train[:, 0].max() + 1\n",
    "    y_min, y_max = X_train[:, 1].min() - 1, X_train[:, 1].max() + 1\n",
    "    xx, yy = np.meshgrid(np.arange(x_min, x_max, h), np.arange(y_min, y_max, h))\n",
    "    print(np.c_[xx.ravel(), yy.ravel()].shape)\n",
    "\n",
    "    # Получим предсказания для всех точек\n",
    "    Z = knn(X_train, y_train, np.c_[xx.ravel(), yy.ravel()], k)\n",
    "    # Построим график\n",
    "    Z = np.array(Z).reshape(xx.shape)\n",
    "    plt.figure(figsize=(7,7))\n",
    "    plt.pcolormesh(xx, yy, Z, cmap=cmap_light, shading='auto')\n",
    "\n",
    "    # Добавим на график обучающую выборку\n",
    "    plt.scatter(X_train[:, 0], X_train[:, 1], c=y_train, cmap=cmap)\n",
    "    plt.xlim(xx.min(), xx.max())\n",
    "    plt.ylim(yy.min(), yy.max())\n",
    "    plt.title(f\"Трехклассовая kNN классификация при k = {k}\")\n",
    "    plt.show()"
   ]
  },
  {
   "cell_type": "code",
   "execution_count": 8,
   "id": "7607cc83",
   "metadata": {},
   "outputs": [],
   "source": [
    "from sklearn.datasets import make_blobs\n",
    "\n",
    "X, y = make_blobs(n_samples=N_SAMPLES, random_state=RANDOM_STATE)"
   ]
  },
  {
   "cell_type": "code",
   "execution_count": 9,
   "id": "9e464095",
   "metadata": {},
   "outputs": [
    {
     "data": {
      "text/plain": [
       "((240, 2), (60, 2))"
      ]
     },
     "execution_count": 9,
     "metadata": {},
     "output_type": "execute_result"
    }
   ],
   "source": [
    "X_train, X_test, y_train, y_test = train_test_split(X, y,\n",
    "                                                    test_size=0.2,\n",
    "                                                    random_state=RANDOM_STATE,\n",
    "                                                    stratify=y)\n",
    "X_train.shape, X_test.shape"
   ]
  },
  {
   "cell_type": "code",
   "execution_count": 10,
   "id": "8f1cd6e6",
   "metadata": {},
   "outputs": [],
   "source": [
    "import matplotlib.pyplot as plt\n",
    "import numpy as np"
   ]
  },
  {
   "cell_type": "code",
   "execution_count": 11,
   "id": "e25226f9",
   "metadata": {},
   "outputs": [
    {
     "data": {
      "image/png": "[encoded data removed]",
      "text/plain": [
       "<Figure size 504x504 with 1 Axes>"
      ]
     },
     "metadata": {
      "needs_background": "light"
     },
     "output_type": "display_data"
    }
   ],
   "source": [
    "cmap = ListedColormap(['red', 'green', 'blue'])\n",
    "plt.figure(figsize=(7, 7))\n",
    "plt.scatter(X[:, 0], X[:, 1], c=y, cmap=cmap);"
   ]
  },
  {
   "cell_type": "code",
   "execution_count": 12,
   "id": "5ccd7001",
   "metadata": {},
   "outputs": [],
   "source": [
    "# plt.figure(figsize=(7, 7))\n",
    "# plt.scatter(X[:, 0], X[:, 1]);"
   ]
  },
  {
   "cell_type": "code",
   "execution_count": 13,
   "id": "4ad7ed62",
   "metadata": {},
   "outputs": [],
   "source": [
    "# k = 1000\n",
    "# distances = np.ones(k)\n",
    "# make_weights(k, distances)"
   ]
  },
  {
   "cell_type": "code",
   "execution_count": 14,
   "id": "1f72a37d",
   "metadata": {},
   "outputs": [
    {
     "name": "stdout",
     "output_type": "stream",
     "text": [
      "Точность алгоритма при k = 10: 0.933\n"
     ]
    }
   ],
   "source": [
    "k = 10\n",
    "\n",
    "y_pred = knn(X_train, y_train, X_test, k)\n",
    "\n",
    "print(f'Точность алгоритма при k = {k}: {accuracy(y_pred, y_test):.3f}')"
   ]
  },
  {
   "cell_type": "code",
   "execution_count": 15,
   "id": "714892fe",
   "metadata": {},
   "outputs": [
    {
     "name": "stdout",
     "output_type": "stream",
     "text": [
      "Wall time: 1.48 s\n"
     ]
    }
   ],
   "source": [
    "%%time\n",
    "accuracy_list = []\n",
    "accuracy_list.append(0)\n",
    "accuracy_list.append(0)\n",
    "for s in range(3, 20):    \n",
    "    y_pred = knn(X_train, y_train, X_test, s)\n",
    "    accuracy_list.append(accuracy(y_pred, y_test))\n",
    "#     print(f'Точность алгоритма при k = {k}: {accuracy(y_pred, y_test):.3f}')\n",
    "    "
   ]
  },
  {
   "cell_type": "code",
   "execution_count": 16,
   "id": "2b1dd9d2",
   "metadata": {},
   "outputs": [
    {
     "name": "stdout",
     "output_type": "stream",
     "text": [
      "лучшее количество соседей для данной задачи: 5\n"
     ]
    },
    {
     "data": {
      "image/png": "[encoded data removed]",
      "text/plain": [
       "<Figure size 432x288 with 1 Axes>"
      ]
     },
     "metadata": {
      "needs_background": "light"
     },
     "output_type": "display_data"
    }
   ],
   "source": [
    "accuracy_list = np.array(accuracy_list)\n",
    "print(f'лучшее количество соседей для данной задачи: {accuracy_list.argmax()}')\n",
    "plt.xlabel('Количество соседей')\n",
    "plt.ylabel('accuracy')\n",
    "plt.plot(accuracy_list)\n",
    "plt.show()"
   ]
  },
  {
   "cell_type": "code",
   "execution_count": 17,
   "id": "79dcc179",
   "metadata": {},
   "outputs": [
    {
     "name": "stdout",
     "output_type": "stream",
     "text": [
      "(41881, 2)\n"
     ]
    },
    {
     "data": {
      "image/png": "[encoded data removed]",
      "text/plain": [
       "<Figure size 504x504 with 1 Axes>"
      ]
     },
     "metadata": {
      "needs_background": "light"
     },
     "output_type": "display_data"
    },
    {
     "name": "stdout",
     "output_type": "stream",
     "text": [
      "Wall time: 1min 1s\n"
     ]
    }
   ],
   "source": [
    "%%time\n",
    "get_graph(X_train, y_train, accuracy_list.argmax())"
   ]
  },
  {
   "cell_type": "code",
   "execution_count": 18,
   "id": "ed22443e",
   "metadata": {},
   "outputs": [],
   "source": [
    "#среднее квадратичное внутрикластерное расстояние"
   ]
  },
  {
   "cell_type": "code",
   "execution_count": 19,
   "id": "e61aa1a2",
   "metadata": {},
   "outputs": [],
   "source": [
    "def e_metrics_kmeans(x1, x2):\n",
    "    \n",
    "    distance = np.sum(np.square(x1 - x2))\n",
    "    \n",
    "    return np.sqrt(distance)"
   ]
  },
  {
   "cell_type": "code",
   "execution_count": 20,
   "id": "0010b5d6",
   "metadata": {},
   "outputs": [],
   "source": [
    "def kmeans(data, k, max_iterations, min_distance):    \n",
    "    # инициализируем центроиды как первые k элементов датасета\n",
    "    centroids = [data[i] for i in range(k)]\n",
    "    \n",
    "    for _ in range(max_iterations):\n",
    "        # Создадим словарь для кластеризации\n",
    "        clusters = {i: [] for i in range(k)}\n",
    "        \n",
    "        # кластеризуем объекты по центроидам\n",
    "        for x in data:\n",
    "            # определим расстояния от объекта до каждого центроида\n",
    "#             print(x, centroids)\n",
    "            distances = [e_metrics_kmeans(x, centroid) for centroid in centroids]\n",
    "            # отнесем объект к кластеру, до центроида которого наименьшее расстояние\n",
    "            cluster = distances.index(min(distances))\n",
    "            clusters[cluster].append(x)\n",
    "        \n",
    "        # сохраним предыдущие центроиды в отдельный список для последующего сравнения сновыми\n",
    "        old_centroids = centroids.copy()\n",
    "        \n",
    "        # пересчитаем центроиды как среднее по кластерам\n",
    "        for cluster in clusters:\n",
    "            centroids[cluster] = np.mean(clusters[cluster], axis=0)\n",
    "            \n",
    "        # сравним величину смещения центроидов с минимальной\n",
    "        optimal = True\n",
    "        for centroid in range(len(centroids)):\n",
    "            if np.linalg.norm(centroids[centroid] - old_centroids[centroid], ord=2) > min_distance:\n",
    "                optimal = False\n",
    "                break\n",
    "        \n",
    "        # если все смещения меньше минимального, останавливаем алгоритм  \n",
    "        if optimal:\n",
    "            break\n",
    "    \n",
    "    return old_centroids, clusters"
   ]
  },
  {
   "cell_type": "code",
   "execution_count": 21,
   "id": "35b3b73a",
   "metadata": {},
   "outputs": [],
   "source": [
    "def visualize(centroids, clusters):\n",
    "    colors = ['r', 'g', 'b', 'orange', 'y']\n",
    "    \n",
    "    plt.figure(figsize=(7,7))\n",
    "    \n",
    "    # нанесем на график центроиды\n",
    "    for centroid in centroids:\n",
    "        plt.scatter(centroid[0], centroid[1], marker='x', s=130, c='black')\n",
    "        \n",
    "    # нанесем объекты раскрашенные по классам\n",
    "    for cluster_item in clusters:\n",
    "        for x in clusters[cluster_item]:\n",
    "            plt.scatter(x[0], x[1], color=colors[cluster_item])\n",
    "            \n",
    "    plt.show()"
   ]
  },
  {
   "cell_type": "code",
   "execution_count": 22,
   "id": "d485c1b5",
   "metadata": {},
   "outputs": [],
   "source": [
    "# определим максимальное количество итераций\n",
    "max_iterations = 100\n",
    "\n",
    "# и минимальное расстояние между центроидами до пересчета и после него, при котором нужно остановить алгоритм\n",
    "min_distance = 1e-4\n",
    "\n",
    "# сразу определим известное нам количество кластеров\n",
    "k = 3"
   ]
  },
  {
   "cell_type": "code",
   "execution_count": 23,
   "id": "8ca9fcf9",
   "metadata": {},
   "outputs": [
    {
     "data": {
      "image/png": "[encoded data removed]",
      "text/plain": [
       "<Figure size 504x504 with 1 Axes>"
      ]
     },
     "metadata": {
      "needs_background": "light"
     },
     "output_type": "display_data"
    },
    {
     "name": "stdout",
     "output_type": "stream",
     "text": [
      "Wall time: 1.74 s\n"
     ]
    }
   ],
   "source": [
    "%%time\n",
    "centroids, clusters = kmeans(X, k, max_iterations, min_distance)\n",
    "\n",
    "visualize(centroids, clusters)"
   ]
  },
  {
   "cell_type": "code",
   "execution_count": 24,
   "id": "58907838",
   "metadata": {},
   "outputs": [
    {
     "data": {
      "text/plain": [
       "[array([-8.13728431,  2.66532187]),\n",
       " array([ 6.50851386, -9.44966244]),\n",
       " array([-5.63473859,  2.27214896])]"
      ]
     },
     "execution_count": 24,
     "metadata": {},
     "output_type": "execute_result"
    }
   ],
   "source": [
    "centroids"
   ]
  },
  {
   "cell_type": "code",
   "execution_count": 25,
   "id": "bce5c9ba",
   "metadata": {},
   "outputs": [],
   "source": [
    "\n",
    "def elbow_point(X, k, max_iterations, min_distance):\n",
    "    distance_change = []\n",
    "    for i in range(1, k):\n",
    "        centroids, clusters = kmeans(X, i, max_iterations, min_distance)\n",
    "        distance = []\n",
    "        for each in clusters:\n",
    "            x1 = clusters.get(each)\n",
    "            x2 = centroids[each]\n",
    "            distance.append(np.sum(np.square(x1 - x2)))\n",
    "#             print(np.sum(np.square(x1 - x2)))\n",
    "        distance_change.append(np.sum(distance))\n",
    "#         print(distance_change, distance)\n",
    "    return distance_change"
   ]
  },
  {
   "cell_type": "code",
   "execution_count": 26,
   "id": "4447d7d8",
   "metadata": {},
   "outputs": [],
   "source": [
    "k = 10\n",
    "max_iterations = 100\n",
    "min_distance = 1e-4"
   ]
  },
  {
   "cell_type": "code",
   "execution_count": 27,
   "id": "a42b99f7",
   "metadata": {},
   "outputs": [],
   "source": [
    "distance_change = elbow_point(X, k, max_iterations, min_distance)"
   ]
  },
  {
   "cell_type": "code",
   "execution_count": 28,
   "id": "1dc41be9",
   "metadata": {},
   "outputs": [
    {
     "data": {
      "text/plain": [
       "array([148.77256554,  28.80270534,  22.57281548,  20.92137128,\n",
       "        19.23986735,  17.61070554,  16.3248488 ,  15.72086699,\n",
       "        15.22375009])"
      ]
     },
     "execution_count": 28,
     "metadata": {},
     "output_type": "execute_result"
    }
   ],
   "source": [
    "distance_change = np.sqrt(distance_change)\n",
    "distance_change"
   ]
  },
  {
   "cell_type": "code",
   "execution_count": 29,
   "id": "e367b5f8",
   "metadata": {},
   "outputs": [
    {
     "data": {
      "image/png": "[encoded data removed]",
      "text/plain": [
       "<Figure size 432x288 with 1 Axes>"
      ]
     },
     "metadata": {
      "needs_background": "light"
     },
     "output_type": "display_data"
    }
   ],
   "source": [
    "distance_change = np.array(distance_change)\n",
    "# print(f'лучшее количество кластеров для данной задачи: {accuracy_list.argmax()}')\n",
    "plt.xlabel('Количество кластеров')\n",
    "plt.ylabel('внутрикластерное расстояние')\n",
    "plt.plot(distance_change)\n",
    "plt.show()"
   ]
  },
  {
   "cell_type": "code",
   "execution_count": 30,
   "id": "0e947ca2",
   "metadata": {},
   "outputs": [
    {
     "data": {
      "image/png": "[encoded data removed]",
      "text/plain": [
       "<Figure size 504x504 with 1 Axes>"
      ]
     },
     "metadata": {
      "needs_background": "light"
     },
     "output_type": "display_data"
    },
    {
     "name": "stdout",
     "output_type": "stream",
     "text": [
      "Wall time: 1.71 s\n"
     ]
    }
   ],
   "source": [
    "%%time\n",
    "max_iterations = 100\n",
    "min_distance = 1e-4\n",
    "k = 2\n",
    "centroids, clusters = kmeans(X, k, max_iterations, min_distance)\n",
    "\n",
    "visualize(centroids, clusters)"
   ]
  },
  {
   "cell_type": "code",
   "execution_count": null,
   "id": "f3fadab4",
   "metadata": {},
   "outputs": [],
   "source": []
  }
 ],
 "metadata": {
  "kernelspec": {
   "display_name": "Python 3",
   "language": "python",
   "name": "python3"
  },
  "language_info": {
   "codemirror_mode": {
    "name": "ipython",
    "version": 3
   },
   "file_extension": ".py",
   "mimetype": "text/x-python",
   "name": "python",
   "nbconvert_exporter": "python",
   "pygments_lexer": "ipython3",
   "version": "3.8.8"
  }
 },
 "nbformat": 4,
 "nbformat_minor": 5
}
